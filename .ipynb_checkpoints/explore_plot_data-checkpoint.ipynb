{
 "cells": [
  {
   "cell_type": "code",
   "execution_count": 14,
   "metadata": {},
   "outputs": [],
   "source": [
    "from pointwise_min import construct_df_for_eq_div_fpr\n",
    "from pointwise_min import get_fpr_eq_div\n",
    "import matplotlib.pylab as plt "
   ]
  },
  {
   "cell_type": "code",
   "execution_count": 5,
   "metadata": {},
   "outputs": [
    {
     "name": "stdout",
     "output_type": "stream",
     "text": [
      "     Asian_tpr Asian_threshold Black_tpr Black_threshold Hispanic_tpr  \\\n",
      "0.00         0             101         0             101            0   \n",
      "0.01  0.208004         83.5315   0.28234          59.954     0.244266   \n",
      "0.02  0.305074         76.7585  0.407198         49.5555     0.340156   \n",
      "0.03  0.366317         72.2048   0.48769         44.3485     0.413364   \n",
      "0.04  0.415311         67.8275  0.546138         41.2037      0.47262   \n",
      "...        ...             ...       ...             ...          ...   \n",
      "0.95  0.999261         1.88255  0.998966         1.26112     0.999245   \n",
      "0.96  0.999414          1.4599  0.999205         1.18002     0.999406   \n",
      "0.97  0.999562          1.3232  0.999445         1.09892     0.999566   \n",
      "0.98   0.99971         1.18649  0.999684         1.01782     0.999727   \n",
      "0.99  0.999857         1.04978  0.999856        0.767093     0.999884   \n",
      "\n",
      "     Hispanic_threshold White_tpr White_threshold  \n",
      "0.00                101         0             101  \n",
      "0.01            70.9834  0.241511         85.3915  \n",
      "0.02            61.9879   0.41111         74.5642  \n",
      "0.03            56.6033  0.515909         65.3667  \n",
      "0.04            52.6923  0.587638         59.7752  \n",
      "...                 ...       ...             ...  \n",
      "0.95            1.49495  0.999584         1.64479  \n",
      "0.96            1.36895  0.999677         1.40547  \n",
      "0.97            1.24294  0.999763         1.26776  \n",
      "0.98            1.11694  0.999849         1.13006  \n",
      "0.99           0.965708  0.999934        0.972634  \n",
      "\n",
      "[100 rows x 8 columns]\n"
     ]
    }
   ],
   "source": [
    "eq_fpr_df = construct_df_for_eq_div_fpr()\n",
    "print(eq_fpr_df)"
   ]
  },
  {
   "cell_type": "code",
   "execution_count": 8,
   "metadata": {},
   "outputs": [
    {
     "name": "stdout",
     "output_type": "stream",
     "text": [
      "     Asian_tpr Black_tpr Hispanic_tpr White_tpr\n",
      "0.00         0         0            0         0\n",
      "0.01  0.208004   0.28234     0.244266  0.241511\n",
      "0.02  0.305074  0.407198     0.340156   0.41111\n",
      "0.03  0.366317   0.48769     0.413364  0.515909\n",
      "0.04  0.415311  0.546138      0.47262  0.587638\n",
      "...        ...       ...          ...       ...\n",
      "0.95  0.999261  0.998966     0.999245  0.999584\n",
      "0.96  0.999414  0.999205     0.999406  0.999677\n",
      "0.97  0.999562  0.999445     0.999566  0.999763\n",
      "0.98   0.99971  0.999684     0.999727  0.999849\n",
      "0.99  0.999857  0.999856     0.999884  0.999934\n",
      "\n",
      "[100 rows x 4 columns]\n"
     ]
    }
   ],
   "source": [
    "drop_thresholds_df = df.drop(columns = ['Asian_threshold','Black_threshold', 'Hispanic_threshold','White_threshold'])\n",
    "print(drop_thresholds_df)"
   ]
  },
  {
   "cell_type": "code",
   "execution_count": 18,
   "metadata": {},
   "outputs": [
    {
     "name": "stdout",
     "output_type": "stream",
     "text": [
      "0.00    0.000000\n",
      "0.01    0.208004\n",
      "0.02    0.305074\n",
      "0.03    0.366317\n",
      "0.04    0.415311\n",
      "          ...   \n",
      "0.95    0.998966\n",
      "0.96    0.999205\n",
      "0.97    0.999445\n",
      "0.98    0.999684\n",
      "0.99    0.999856\n",
      "Length: 100, dtype: float64\n"
     ]
    }
   ],
   "source": [
    "pointwise_min_df = drop_thresholds_df.min(axis=1)\n",
    "print(pointwise_min_df)\n",
    "eq_fpr = list(get_fpr_eq_div())\n",
    "min_tpr = list(pointwise_min_df)"
   ]
  },
  {
   "cell_type": "code",
   "execution_count": 24,
   "metadata": {},
   "outputs": [
    {
     "data": {
      "text/plain": [
       "<function matplotlib.pyplot.show(*args, **kw)>"
      ]
     },
     "execution_count": 24,
     "metadata": {},
     "output_type": "execute_result"
    },
    {
     "data": {
      "image/png": "[encoded data removed]",
      "text/plain": [
       "<Figure size 432x288 with 1 Axes>"
      ]
     },
     "metadata": {
      "needs_background": "light"
     },
     "output_type": "display_data"
    }
   ],
   "source": [
    "plt.plot(eq_fpr,min_tpr,'-o')\n",
    "plt.show"
   ]
  },
  {
   "cell_type": "code",
   "execution_count": null,
   "metadata": {},
   "outputs": [],
   "source": []
  }
 ],
 "metadata": {
  "kernelspec": {
   "display_name": "Python 3",
   "language": "python",
   "name": "python3"
  },
  "language_info": {
   "codemirror_mode": {
    "name": "ipython",
    "version": 3
   },
   "file_extension": ".py",
   "mimetype": "text/x-python",
   "name": "python",
   "nbconvert_exporter": "python",
   "pygments_lexer": "ipython3",
   "version": "3.7.7"
  }
 },
 "nbformat": 4,
 "nbformat_minor": 4
}
