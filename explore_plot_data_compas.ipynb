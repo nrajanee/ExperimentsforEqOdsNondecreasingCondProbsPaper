{
 "cells": [
  {
   "cell_type": "code",
   "execution_count": 1,
   "metadata": {},
   "outputs": [],
   "source": [
    "from construct_eq_fpr_df import construct_df_for_eq_div_fpr\n",
    "from get_data_compas import get_recid_compas_df\n",
    "from get_data_compas import get_compas_fpr_tpr\n",
    "from construct_eq_fpr_df import get_fpr_eq_div"
   ]
  },
  {
   "cell_type": "code",
   "execution_count": null,
   "metadata": {},
   "outputs": [],
   "source": [
    "#list of attributes are White, Black \n",
    "recid_w_b_df = get_recid_compas_df()\n",
    "fpr_df, tpr_df = get_compas_fpr_tpr(recid_w_b_df)\n",
    "\n",
    "data_fpr_Black = fpr_df['Black']\n",
    "print(data_fpr_Black)"
   ]
  },
  {
   "cell_type": "code",
   "execution_count": 8,
   "metadata": {},
   "outputs": [
    {
     "name": "stdout",
     "output_type": "stream",
     "text": [
      "Index(['Black', 'White'], dtype='object')\n",
      "      Black_tpr Black_threshold  White_tpr White_threshold\n",
      "0.00          0              11          0              11\n",
      "0.01  0.0358435         10.6868  0.0356282         10.2061\n",
      "0.02   0.071687         10.3736  0.0694372         9.63517\n",
      "0.03    0.10753         10.0604   0.102608         9.14241\n",
      "0.04   0.132378         9.86863    0.14264         8.63714\n",
      "...         ...             ...        ...             ...\n",
      "0.95    0.98632         1.27852    0.97963         1.13558\n",
      "0.96   0.989056         1.22282   0.983704         1.10846\n",
      "0.97   0.991792         1.16711   0.987778         1.08135\n",
      "0.98   0.994528         1.11141   0.991852         1.05423\n",
      "0.99   0.997264          1.0557   0.995926         1.02712\n",
      "\n",
      "[100 rows x 4 columns]\n"
     ]
    }
   ],
   "source": [
    "eq_fpr_df = construct_df_for_eq_div_fpr('compas')\n",
    "print(eq_fpr_df)"
   ]
  },
  {
   "cell_type": "code",
   "execution_count": 9,
   "metadata": {},
   "outputs": [
    {
     "name": "stdout",
     "output_type": "stream",
     "text": [
      "      Black_tpr  White_tpr\n",
      "0.00          0          0\n",
      "0.01  0.0358435  0.0356282\n",
      "0.02   0.071687  0.0694372\n",
      "0.03    0.10753   0.102608\n",
      "0.04   0.132378    0.14264\n",
      "...         ...        ...\n",
      "0.95    0.98632    0.97963\n",
      "0.96   0.989056   0.983704\n",
      "0.97   0.991792   0.987778\n",
      "0.98   0.994528   0.991852\n",
      "0.99   0.997264   0.995926\n",
      "\n",
      "[100 rows x 2 columns]\n"
     ]
    }
   ],
   "source": [
    "drop_thresholds_df = eq_fpr_df.drop(columns = ['Black_threshold','White_threshold'])\n",
    "print(drop_thresholds_df)"
   ]
  },
  {
   "cell_type": "code",
   "execution_count": 10,
   "metadata": {},
   "outputs": [
    {
     "name": "stdout",
     "output_type": "stream",
     "text": [
      "0.00    0.000000\n",
      "0.01    0.035628\n",
      "0.02    0.069437\n",
      "0.03    0.102608\n",
      "0.04    0.132378\n",
      "          ...   \n",
      "0.95    0.979630\n",
      "0.96    0.983704\n",
      "0.97    0.987778\n",
      "0.98    0.991852\n",
      "0.99    0.995926\n",
      "Length: 100, dtype: float64\n"
     ]
    }
   ],
   "source": [
    "pointwise_min_df = drop_thresholds_df.min(axis=1)\n",
    "print(pointwise_min_df)"
   ]
  },
  {
   "cell_type": "code",
   "execution_count": 12,
   "metadata": {},
   "outputs": [
    {
     "name": "stdout",
     "output_type": "stream",
     "text": [
      "1             1\n",
      "2      0.820482\n",
      "3      0.665663\n",
      "4      0.556024\n",
      "5      0.439157\n",
      "6      0.334337\n",
      "7      0.240964\n",
      "8      0.153012\n",
      "9     0.0933735\n",
      "10    0.0319277\n",
      "11            0\n",
      "Name: Black, dtype: object\n"
     ]
    }
   ],
   "source": [
    "eq_fpr = list(get_fpr_eq_div())\n",
    "min_tpr = list(pointwise_min_df)"
   ]
  },
  {
   "cell_type": "code",
   "execution_count": null,
   "metadata": {},
   "outputs": [],
   "source": []
  }
 ],
 "metadata": {
  "kernelspec": {
   "display_name": "Python 3",
   "language": "python",
   "name": "python3"
  },
  "language_info": {
   "codemirror_mode": {
    "name": "ipython",
    "version": 3
   },
   "file_extension": ".py",
   "mimetype": "text/x-python",
   "name": "python",
   "nbconvert_exporter": "python",
   "pygments_lexer": "ipython3",
   "version": "3.7.7"
  }
 },
 "nbformat": 4,
 "nbformat_minor": 4
}
