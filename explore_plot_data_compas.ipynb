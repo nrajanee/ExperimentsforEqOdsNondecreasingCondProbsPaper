{
 "cells": [
  {
   "cell_type": "code",
   "execution_count": 4,
   "metadata": {},
   "outputs": [],
   "source": [
    "from construct_eq_fpr_df import construct_df_for_eq_div_fpr\n",
    "from get_data_compas import get_recid_compas_df\n",
    "from get_data_compas import get_compas_fpr_tpr\n",
    "from get_data_compas import get_totals_and_fraction_recidivists\n",
    "from construct_eq_fpr_df import get_fpr_eq_div\n",
    "from onehalfthreshold import get_optimal_fp_tp\n",
    "from onehalfthreshold import get_indices_for_a_opt\n",
    "from onehalfthreshold import get_fpa_opt_tpa_opt_thres_a_opt\n",
    "from onehalfthreshold import get_optimal_fp_tp_hardtf\n",
    "from matplotlib.font_manager import FontProperties\n",
    "import pandas as pd \n",
    "import matplotlib.pylab as plt \n",
    "import pylab\n",
    "from fairmlbook.code.creditscore_compas import criteria"
   ]
  },
  {
   "cell_type": "code",
   "execution_count": 5,
   "metadata": {},
   "outputs": [
    {
     "data": {
      "text/markdown": [
       "# Data\n"
      ],
      "text/plain": [
       "<IPython.core.display.Markdown object>"
      ]
     },
     "metadata": {},
     "output_type": "display_data"
    }
   ],
   "source": [
    "%%markdown\n",
    "# Data"
   ]
  },
  {
   "cell_type": "code",
   "execution_count": 6,
   "metadata": {},
   "outputs": [],
   "source": [
    "recid_w_b_df = get_recid_compas_df()\n",
    "fpr_df, tpr_df = get_compas_fpr_tpr(recid_w_b_df)\n",
    "fraction_recidivists,totals = get_totals_and_fraction_recidivists(recid_w_b_df)\n",
    "\n",
    "data_fpr_Black = fpr_df['Black']\n",
    "data_tpr_Black = tpr_df['Black']\n",
    "\n",
    "data_fpr_White = fpr_df['White']\n",
    "data_tpr_White = tpr_df['White']\n"
   ]
  },
  {
   "cell_type": "code",
   "execution_count": 7,
   "metadata": {},
   "outputs": [
    {
     "name": "stdout",
     "output_type": "stream",
     "text": [
      "Index(['Black', 'White'], dtype='object')\n",
      "        Black_tpr Black_threshold   White_tpr White_threshold\n",
      "0.000           0              11           0              11\n",
      "0.001  0.00358435         10.9687  0.00356282         10.9206\n",
      "0.002   0.0071687         10.9374  0.00712564         10.8412\n",
      "0.003    0.010753          10.906   0.0106885         10.7618\n",
      "0.004   0.0143374         10.8747   0.0142513         10.6824\n",
      "...           ...             ...         ...             ...\n",
      "0.995    0.998632         1.02785    0.997963         1.01356\n",
      "0.996    0.998906         1.02228     0.99837         1.01085\n",
      "0.997    0.999179         1.01671    0.998778         1.00813\n",
      "0.998    0.999453         1.01114    0.999185         1.00542\n",
      "0.999    0.999726         1.00557    0.999593         1.00271\n",
      "\n",
      "[1000 rows x 4 columns]\n"
     ]
    }
   ],
   "source": [
    "eq_fpr_df = construct_df_for_eq_div_fpr(fpr_df,tpr_df,division=0.001)\n",
    "print(eq_fpr_df)"
   ]
  },
  {
   "cell_type": "code",
   "execution_count": 8,
   "metadata": {},
   "outputs": [
    {
     "name": "stdout",
     "output_type": "stream",
     "text": [
      "        Black_tpr   White_tpr\n",
      "0.000           0           0\n",
      "0.001  0.00358435  0.00356282\n",
      "0.002   0.0071687  0.00712564\n",
      "0.003    0.010753   0.0106885\n",
      "0.004   0.0143374   0.0142513\n",
      "...           ...         ...\n",
      "0.995    0.998632    0.997963\n",
      "0.996    0.998906     0.99837\n",
      "0.997    0.999179    0.998778\n",
      "0.998    0.999453    0.999185\n",
      "0.999    0.999726    0.999593\n",
      "\n",
      "[1000 rows x 2 columns]\n"
     ]
    }
   ],
   "source": [
    "drop_thresholds_df = eq_fpr_df.drop(columns = ['Black_threshold','White_threshold'])\n",
    "print(drop_thresholds_df)"
   ]
  },
  {
   "cell_type": "code",
   "execution_count": 9,
   "metadata": {},
   "outputs": [
    {
     "data": {
      "text/markdown": [
       "## Pointwise minimum of the roc curves \n"
      ],
      "text/plain": [
       "<IPython.core.display.Markdown object>"
      ]
     },
     "metadata": {},
     "output_type": "display_data"
    }
   ],
   "source": [
    "%%markdown \n",
    "## Pointwise minimum of the roc curves "
   ]
  },
  {
   "cell_type": "code",
   "execution_count": 10,
   "metadata": {},
   "outputs": [
    {
     "name": "stdout",
     "output_type": "stream",
     "text": [
      "0.000    0.000000\n",
      "0.001    0.003563\n",
      "0.002    0.007126\n",
      "0.003    0.010688\n",
      "0.004    0.014251\n",
      "           ...   \n",
      "0.995    0.997963\n",
      "0.996    0.998370\n",
      "0.997    0.998778\n",
      "0.998    0.999185\n",
      "0.999    0.999593\n",
      "Length: 1000, dtype: float64\n"
     ]
    }
   ],
   "source": [
    "pointwise_min_df = drop_thresholds_df.min(axis=1)\n",
    "print(pointwise_min_df)"
   ]
  },
  {
   "cell_type": "code",
   "execution_count": 11,
   "metadata": {},
   "outputs": [],
   "source": [
    "eq_fpr = list(get_fpr_eq_div(division=0.001))\n",
    "min_tpr = list(pointwise_min_df)"
   ]
  },
  {
   "cell_type": "code",
   "execution_count": 12,
   "metadata": {},
   "outputs": [
    {
     "data": {
      "image/png": "[encoded data removed]",
      "text/plain": [
       "<Figure size 432x288 with 1 Axes>"
      ]
     },
     "metadata": {
      "needs_background": "light"
     },
     "output_type": "display_data"
    }
   ],
   "source": [
    "plt.plot(eq_fpr,min_tpr,'-o')\n",
    "plt.xlabel('equally divided fpr')\n",
    "plt.ylabel('pointwise min tpr')\n",
    "plt.show()"
   ]
  },
  {
   "cell_type": "code",
   "execution_count": 13,
   "metadata": {},
   "outputs": [
    {
     "data": {
      "image/png": "[encoded data removed]",
      "text/plain": [
       "<Figure size 432x288 with 1 Axes>"
      ]
     },
     "metadata": {
      "needs_background": "light"
     },
     "output_type": "display_data"
    }
   ],
   "source": [
    "plt.plot(eq_fpr,min_tpr,'k',label='pointwise minimum of all ROC curves')\n",
    "plt.plot(data_fpr_White, data_tpr_White,'--r',label='ROC curve of group White')\n",
    "plt.plot(data_fpr_Black,data_tpr_Black,'--g',label='ROC curve of group Black')\n",
    "\n",
    "plt.legend()\n",
    "plt.xlabel('fpr')\n",
    "plt.ylabel('tpr')\n",
    "plt.show()"
   ]
  },
  {
   "cell_type": "code",
   "execution_count": 14,
   "metadata": {},
   "outputs": [
    {
     "data": {
      "text/markdown": [
       "# Optimal false positive and true positive \n"
      ],
      "text/plain": [
       "<IPython.core.display.Markdown object>"
      ]
     },
     "metadata": {},
     "output_type": "display_data"
    }
   ],
   "source": [
    "%%markdown \n",
    "# Optimal false positive and true positive "
   ]
  },
  {
   "cell_type": "code",
   "execution_count": 15,
   "metadata": {
    "scrolled": true
   },
   "outputs": [
    {
     "name": "stdout",
     "output_type": "stream",
     "text": [
      "optimal fp: 0.631\n",
      "optimal tp: 0.849600558081852\n"
     ]
    }
   ],
   "source": [
    "#Showing opt for a particular loss function ratio\n",
    "loss_fn,loss_fp = 0.3,0.2 #cost of a non-defaulter not getting a loan, cost of a defaulter getting a loan\n",
    "opt_fp, opt_tp = get_optimal_fp_tp(loss_fn,loss_fp,pointwise_min_df,eq_fpr)\n",
    "print('optimal fp:', opt_fp)\n",
    "print('optimal tp:', opt_tp)"
   ]
  },
  {
   "cell_type": "code",
   "execution_count": 16,
   "metadata": {},
   "outputs": [
    {
     "data": {
      "text/markdown": [
       "## Obtaining optimal false positive and true positive rates for cost matrix\n"
      ],
      "text/plain": [
       "<IPython.core.display.Markdown object>"
      ]
     },
     "metadata": {},
     "output_type": "display_data"
    }
   ],
   "source": [
    "%%markdown \n",
    "## Obtaining optimal false positive and true positive rates for cost matrix"
   ]
  },
  {
   "cell_type": "code",
   "execution_count": 17,
   "metadata": {},
   "outputs": [
    {
     "data": {
      "text/markdown": [
       "## Optimal false positive and true positive rates output from semi-threshold classifier framework \n"
      ],
      "text/plain": [
       "<IPython.core.display.Markdown object>"
      ]
     },
     "metadata": {},
     "output_type": "display_data"
    }
   ],
   "source": [
    "%%markdown \n",
    "## Optimal false positive and true positive rates output from semi-threshold classifier framework "
   ]
  },
  {
   "cell_type": "code",
   "execution_count": 18,
   "metadata": {},
   "outputs": [
    {
     "name": "stdout",
     "output_type": "stream",
     "text": [
      "optimal fp from semi-threshold classifiers with target rate:0.3333333333333333= 0.631\n",
      "optimal tp from semi-threshold classifiers with target rate:0.3333333333333333= 0.849600558081852\n",
      "optimal profit from semi-threshold classifiers with target rate:0.3333333333333333= 1084.0318721923659\n"
     ]
    }
   ],
   "source": [
    "target_rate = 1/3 #(this means loss from loaning to defaulter is 6 times as expensive as for profit from loaning to non-defaulter)\n",
    "profit_semi, opt_fp_semi,opt_tp_semi = get_optimal_fp_tp_hardtf(totals, fraction_recidivists,target_rate,pointwise_min_df, eq_fpr) \n",
    "print('optimal fp from semi-threshold classifiers with target rate:' + str(target_rate) + '=', opt_fp_semi)\n",
    "print('optimal tp from semi-threshold classifiers with target rate:' + str(target_rate) + '=', opt_tp_semi)\n",
    "print('optimal profit from semi-threshold classifiers with target rate:' + str(target_rate) + '=', profit_semi)\n"
   ]
  },
  {
   "cell_type": "code",
   "execution_count": 19,
   "metadata": {},
   "outputs": [
    {
     "data": {
      "text/markdown": [
       "## Optimal false positive and true positive rates outfput from Hardt, Price and Sebro's framework \n"
      ],
      "text/plain": [
       "<IPython.core.display.Markdown object>"
      ]
     },
     "metadata": {},
     "output_type": "display_data"
    }
   ],
   "source": [
    "%%markdown \n",
    "## Optimal false positive and true positive rates outfput from Hardt, Price and Sebro's framework "
   ]
  },
  {
   "cell_type": "code",
   "execution_count": 20,
   "metadata": {},
   "outputs": [
    {
     "name": "stderr",
     "output_type": "stream",
     "text": [
      "/Users/nikitarajaneesh/PycharmProjects/Fairness_scorefunction_predictors/fairmlbook/code/creditscore_compas/criteria.py:112: SettingWithCopyWarning: \n",
      "A value is trying to be set on a copy of a slice from a DataFrame\n",
      "\n",
      "See the caveats in the documentation: https://pandas.pydata.org/pandas-docs/stable/user_guide/indexing.html#returning-a-view-versus-a-copy\n",
      "  cdfs[group][num_per_score.index] = num_per_score.values\n"
     ]
    },
    {
     "name": "stdout",
     "output_type": "stream",
     "text": [
      "optimal fp from Hardt,Price and Sebro's framework with target rate:0.3333333333333333= 0.6312106368089574\n",
      "optimal tp from Hardt,Price and Sebro's framework with target rate:0.3333333333333333= 0.8497560975609756\n",
      "optimal profit from Hardt,Price and Sebro's framework with target rate:0.3333333333333333= 1084.1323907218077\n"
     ]
    }
   ],
   "source": [
    "entire_df = pd.read_csv(\"compas-scores-two-years.csv\")\n",
    "recid_df = entire_df[['race','decile_score','is_recid']]\n",
    "recid_df_w_b = recid_df[(recid_df['race'] == 'African-American') | (recid_df['race'] == 'Caucasian')]\n",
    "\n",
    "data = criteria.CriteriaData.from_individuals(recid_df_w_b,binsize=0.025) \n",
    "result = data.two_sided_optimum(target_rate)\n",
    "profit_hps, opt_fp_hps, opt_tp_hps = result[0],result[1][1],result[1][0]\n",
    "print('optimal fp from Hardt,Price and Sebro\\'s framework with target rate:' + str(target_rate) + '=' , opt_fp_hps)\n",
    "print('optimal tp from Hardt,Price and Sebro\\'s framework with target rate:' + str(target_rate) + '=', opt_tp_hps)\n",
    "print('optimal profit from Hardt,Price and Sebro\\'s framework with target rate:' + str(target_rate) + '=', profit_hps)"
   ]
  },
  {
   "cell_type": "code",
   "execution_count": 21,
   "metadata": {},
   "outputs": [
    {
     "data": {
      "text/markdown": [
       "## Plot data \n"
      ],
      "text/plain": [
       "<IPython.core.display.Markdown object>"
      ]
     },
     "metadata": {},
     "output_type": "display_data"
    }
   ],
   "source": [
    "%%markdown\n",
    "## Plot data "
   ]
  },
  {
   "cell_type": "code",
   "execution_count": 32,
   "metadata": {},
   "outputs": [
    {
     "data": {
      "image/png": "[encoded data removed]",
      "text/plain": [
       "<Figure size 720x360 with 1 Axes>"
      ]
     },
     "metadata": {
      "needs_background": "light"
     },
     "output_type": "display_data"
    }
   ],
   "source": [
    "#pylab.clf()\n",
    "#pylab.figure(figsize=(10, 5))\n",
    "#pylab.plot(data_fpr_White, data_tpr_White,'--r',label='ROC curve of group White')\n",
    "#pylab.plot(data_fpr_Black,data_tpr_Black,'--g',label='ROC curve of group Black')\n",
    "#pylab.plot(opt_fp_hps, opt_tp_hps,'vc',label = 'optimal equalized odds obtained by Hardt,Price, Sebro\\'s framework')\n",
    "#pylab.plot(opt_fp_semi,opt_tp_semi,'xk',label = 'optimal equalized odds obtained by semi-threshold classifiers')\n",
    "#pylab.legend(bbox_to_anchor=(1.05, 1))\n",
    "#pylab.show()\n",
    "\n",
    "\n",
    "f = plt.figure(figsize=(10, 5))\n",
    "#plt.plot(eq_fpr,min_tpr,'k',label='pointwise minimum of all ROC curves')\n",
    "plt.plot(data_fpr_White, data_tpr_White,'--b',label='ROC curve of group White')\n",
    "plt.plot(data_fpr_Black,data_tpr_Black,'-r',label='ROC curve of group Black')\n",
    "plt.plot(opt_fp_hps, opt_tp_hps,'vy',label = 'optimal equalized odds obtained by Hardt,Price, Sebro\\'s framework')\n",
    "plt.plot(opt_fp_semi,opt_tp_semi,'xk',label = 'optimal equalized odds obtained by semi-threshold classifiers')\n",
    "plt.legend(loc=0)\n",
    "\n",
    "plt.xlabel('Fraction of non-recidivists predicted to re-offend')\n",
    "plt.ylabel('Fraction of recidivists predicted to re-offend')\n",
    "plt.title('ROC curves for COMPAS scores')\n",
    "plt.show()\n",
    "f.savefig('compas_tr_1_3.png')"
   ]
  },
  {
   "cell_type": "code",
   "execution_count": 23,
   "metadata": {},
   "outputs": [
    {
     "name": "stdout",
     "output_type": "stream",
     "text": [
      "Opt false positive for group White: 0.631\n",
      "Opt true positive for group White: 0.849600558081852\n",
      "Opt threshold for group White: 2.0012754237288135\n",
      "Opt probablity p_a group White: 1.0\n",
      "Opt false positive for group Black: 0.6457440961147962\n",
      "Opt true positive for group Black: 0.8694525268418255\n",
      "Opt threshold for group Black: 3.181674727744166\n",
      "Opt probablity p_a group Black: 0.9771672769391064\n"
     ]
    }
   ],
   "source": [
    "opt_slope = opt_tp/opt_fp\n",
    "list_attrs = ['White','Black']\n",
    "for attr in list_attrs: \n",
    "    tp_attr_list = list(eq_fpr_df[attr+'_tpr'])\n",
    "    found_index_1, found_index_2 = get_indices_for_a_opt(opt_slope,eq_fpr,tp_attr_list,0,len(eq_fpr)-1)\n",
    "    #print(found_index_1)\n",
    "    #print(found_index_2)\n",
    "    threshold_attr_list = list(eq_fpr_df[attr+'_threshold'])\n",
    "    fpr_1 = eq_fpr[found_index_1]\n",
    "    fpr_2 = eq_fpr[found_index_2]\n",
    "    tpr_1 = tp_attr_list[found_index_1]\n",
    "    tpr_2 = tp_attr_list[found_index_2]\n",
    "    threshold_1 = threshold_attr_list[found_index_1]\n",
    "    threshold_2 = threshold_attr_list[found_index_2]\n",
    "    fpa_opt,tpa_opt,threshold_a_opt = get_fpa_opt_tpa_opt_thres_a_opt(fpr_1,fpr_2,tpr_1,tpr_2,threshold_1,threshold_2,opt_slope)\n",
    "    p_a = opt_fp/fpa_opt #=opt_tp/tpa_opt\n",
    "    print('Opt false positive for group '+attr+':',fpa_opt)\n",
    "    print('Opt true positive for group '+attr+':',tpa_opt)\n",
    "    print('Opt threshold for group '+attr+':',threshold_a_opt)\n",
    "    print('Opt probablity p_a group '+attr+':',p_a)"
   ]
  },
  {
   "cell_type": "code",
   "execution_count": null,
   "metadata": {},
   "outputs": [],
   "source": []
  }
 ],
 "metadata": {
  "kernelspec": {
   "display_name": "Python 3",
   "language": "python",
   "name": "python3"
  },
  "language_info": {
   "codemirror_mode": {
    "name": "ipython",
    "version": 3
   },
   "file_extension": ".py",
   "mimetype": "text/x-python",
   "name": "python",
   "nbconvert_exporter": "python",
   "pygments_lexer": "ipython3",
   "version": "3.7.7"
  }
 },
 "nbformat": 4,
 "nbformat_minor": 4
}
