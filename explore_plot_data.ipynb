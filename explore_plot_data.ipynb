{
 "cells": [
  {
   "cell_type": "code",
   "execution_count": 1,
   "metadata": {},
   "outputs": [
    {
     "name": "stderr",
     "output_type": "stream",
     "text": [
      "unable to import 'smart_open.gcs', disabling that module\n",
      "/usr/local/lib/python3.7/site-packages/sklearn/utils/deprecation.py:144: FutureWarning: The sklearn.metrics.classification module is  deprecated in version 0.22 and will be removed in version 0.24. The corresponding classes / functions should instead be imported from sklearn.metrics. Anything that cannot be imported from sklearn.metrics is now part of the private API.\n"
     ]
    }
   ],
   "source": [
    "from pointwise_min import construct_df_for_eq_div_fpr\n",
    "from pointwise_min import get_fpr_eq_div\n",
    "import matplotlib.pylab as plt \n",
    "from responsibly.dataset import build_FICO_dataset"
   ]
  },
  {
   "cell_type": "code",
   "execution_count": 3,
   "metadata": {},
   "outputs": [
    {
     "name": "stdout",
     "output_type": "stream",
     "text": [
      "     Asian_tpr Asian_threshold Black_tpr Black_threshold Hispanic_tpr  \\\n",
      "0.00         0             101         0             101            0   \n",
      "0.01  0.208004         83.5315   0.28234          59.954     0.244266   \n",
      "0.02  0.305074         76.7585  0.407198         49.5555     0.340156   \n",
      "0.03  0.366317         72.2048   0.48769         44.3485     0.413364   \n",
      "0.04  0.415311         67.8275  0.546138         41.2037      0.47262   \n",
      "...        ...             ...       ...             ...          ...   \n",
      "0.95  0.999261         1.88255  0.998966         1.26112     0.999245   \n",
      "0.96  0.999414          1.4599  0.999205         1.18002     0.999406   \n",
      "0.97  0.999562          1.3232  0.999445         1.09892     0.999566   \n",
      "0.98   0.99971         1.18649  0.999684         1.01782     0.999727   \n",
      "0.99  0.999857         1.04978  0.999856        0.767093     0.999884   \n",
      "\n",
      "     Hispanic_threshold White_tpr White_threshold  \n",
      "0.00                101         0             101  \n",
      "0.01            70.9834  0.241511         85.3915  \n",
      "0.02            61.9879   0.41111         74.5642  \n",
      "0.03            56.6033  0.515909         65.3667  \n",
      "0.04            52.6923  0.587638         59.7752  \n",
      "...                 ...       ...             ...  \n",
      "0.95            1.49495  0.999584         1.64479  \n",
      "0.96            1.36895  0.999677         1.40547  \n",
      "0.97            1.24294  0.999763         1.26776  \n",
      "0.98            1.11694  0.999849         1.13006  \n",
      "0.99           0.965708  0.999934        0.972634  \n",
      "\n",
      "[100 rows x 8 columns]\n"
     ]
    }
   ],
   "source": [
    "eq_fpr_df = construct_df_for_eq_div_fpr()\n",
    "print(eq_fpr_df)"
   ]
  },
  {
   "cell_type": "code",
   "execution_count": 4,
   "metadata": {},
   "outputs": [
    {
     "name": "stdout",
     "output_type": "stream",
     "text": [
      "     Asian_tpr Black_tpr Hispanic_tpr White_tpr\n",
      "0.00         0         0            0         0\n",
      "0.01  0.208004   0.28234     0.244266  0.241511\n",
      "0.02  0.305074  0.407198     0.340156   0.41111\n",
      "0.03  0.366317   0.48769     0.413364  0.515909\n",
      "0.04  0.415311  0.546138      0.47262  0.587638\n",
      "...        ...       ...          ...       ...\n",
      "0.95  0.999261  0.998966     0.999245  0.999584\n",
      "0.96  0.999414  0.999205     0.999406  0.999677\n",
      "0.97  0.999562  0.999445     0.999566  0.999763\n",
      "0.98   0.99971  0.999684     0.999727  0.999849\n",
      "0.99  0.999857  0.999856     0.999884  0.999934\n",
      "\n",
      "[100 rows x 4 columns]\n"
     ]
    }
   ],
   "source": [
    "drop_thresholds_df = eq_fpr_df.drop(columns = ['Asian_threshold','Black_threshold', 'Hispanic_threshold','White_threshold'])\n",
    "print(drop_thresholds_df)"
   ]
  },
  {
   "cell_type": "code",
   "execution_count": 11,
   "metadata": {},
   "outputs": [
    {
     "name": "stdout",
     "output_type": "stream",
     "text": [
      "0.00    0.000000\n",
      "0.01    0.208004\n",
      "0.02    0.305074\n",
      "0.03    0.366317\n",
      "0.04    0.415311\n",
      "          ...   \n",
      "0.95    0.998966\n",
      "0.96    0.999205\n",
      "0.97    0.999445\n",
      "0.98    0.999684\n",
      "0.99    0.999856\n",
      "Length: 100, dtype: float64\n",
      "Score\n",
      "0.0      1.000000\n",
      "0.5      1.000000\n",
      "1.0      0.993641\n",
      "1.5      0.957067\n",
      "2.0      0.947830\n",
      "           ...   \n",
      "98.5     0.000452\n",
      "99.0     0.000164\n",
      "99.5     0.000045\n",
      "100.0    0.000025\n",
      "101.0    0.000000\n",
      "Name: Asian, Length: 199, dtype: float64\n",
      "Score\n",
      "0.0      1.000000\n",
      "0.5      1.000000\n",
      "1.0      0.999911\n",
      "1.5      0.999371\n",
      "2.0      0.999227\n",
      "           ...   \n",
      "98.5     0.013029\n",
      "99.0     0.004794\n",
      "99.5     0.001352\n",
      "100.0    0.000738\n",
      "101.0    0.000000\n",
      "Name: Asian, Length: 199, dtype: float64\n"
     ]
    }
   ],
   "source": [
    "pointwise_min_df = drop_thresholds_df.min(axis=1)\n",
    "print(pointwise_min_df)\n",
    "eq_fpr = list(get_fpr_eq_div())\n",
    "min_tpr = list(pointwise_min_df)\n",
    "\n",
    "FICO = build_FICO_dataset()\n",
    "\n",
    "#list of attributes are Asian, Hispanic, Black, White \n",
    "data_fpr_Asian = FICO['fpr']['Asian']\n",
    "data_tpr_Asian = FICO['tpr']['Asian']\n",
    "\n",
    "data_fpr_Hispanic = FICO['fpr']['Hispanic']\n",
    "data_tpr_Hispanic = FICO['tpr']['Hispanic']\n",
    "\n",
    "data_fpr_Black = FICO['fpr']['Black']\n",
    "data_tpr_Black = FICO['tpr']['Black']\n",
    "\n",
    "data_fpr_White = FICO['fpr']['White']\n",
    "data_tpr_White = FICO['tpr']['White']\n",
    "\n",
    "print(data_fpr_Asian)\n",
    "print(data_tpr_Asian)\n"
   ]
  },
  {
   "cell_type": "code",
   "execution_count": 9,
   "metadata": {},
   "outputs": [
    {
     "data": {
      "image/png": "[encoded data removed]",
      "text/plain": [
       "<Figure size 432x288 with 1 Axes>"
      ]
     },
     "metadata": {
      "needs_background": "light"
     },
     "output_type": "display_data"
    }
   ],
   "source": [
    "plt.plot(eq_fpr,min_tpr,'-o')\n",
    "plt.xlabel('equally divided fpr')\n",
    "plt.ylabel('pointwise min tpr')\n",
    "plt.show()"
   ]
  },
  {
   "cell_type": "code",
   "execution_count": 20,
   "metadata": {},
   "outputs": [
    {
     "data": {
      "image/png": "[encoded data removed]",
      "text/plain": [
       "<Figure size 432x288 with 1 Axes>"
      ]
     },
     "metadata": {
      "needs_background": "light"
     },
     "output_type": "display_data"
    }
   ],
   "source": [
    "plt.plot(eq_fpr,min_tpr,'k',label='pointwise minimum of all ROC curves')\n",
    "plt.plot(data_fpr_Asian, data_tpr_Asian,'--r',label='ROC curve of group Asian')\n",
    "plt.plot(data_fpr_Hispanic,data_tpr_Hispanic,'--m',label='ROC curve of group Hispanic')\n",
    "plt.plot(data_fpr_Black,data_tpr_Black,'--g',label='ROC curve of group Black')\n",
    "plt.plot(data_fpr_White,data_tpr_White,'--c',label='ROC curve of group White')\n",
    "plt.legend()\n",
    "\n",
    "plt.xlabel('fpr')\n",
    "plt.ylabel('tpr')\n",
    "plt.show()"
   ]
  },
  {
   "cell_type": "code",
   "execution_count": null,
   "metadata": {},
   "outputs": [],
   "source": []
  }
 ],
 "metadata": {
  "kernelspec": {
   "display_name": "Python 3",
   "language": "python",
   "name": "python3"
  },
  "language_info": {
   "codemirror_mode": {
    "name": "ipython",
    "version": 3
   },
   "file_extension": ".py",
   "mimetype": "text/x-python",
   "name": "python",
   "nbconvert_exporter": "python",
   "pygments_lexer": "ipython3",
   "version": "3.7.7"
  }
 },
 "nbformat": 4,
 "nbformat_minor": 4
}
